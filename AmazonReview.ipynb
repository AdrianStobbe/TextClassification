{
 "cells": [
  {
   "cell_type": "markdown",
   "metadata": {},
   "source": [
    "# TensorFlow Lite: Sentimental Analysis using Amazon review"
   ]
  },
  {
   "cell_type": "markdown",
   "metadata": {},
   "source": [
    "..."
   ]
  },
  {
   "cell_type": "markdown",
   "metadata": {},
   "source": [
    "## Package import"
   ]
  },
  {
   "cell_type": "code",
   "execution_count": 1,
   "metadata": {},
   "outputs": [
    {
     "name": "stderr",
     "output_type": "stream",
     "text": [
      "WARNING: Skipping tensorflow as it is not installed.\n",
      "WARNING: Skipping google-colab as it is not installed.\n"
     ]
    }
   ],
   "source": [
    "# Ignore  the warnings\n",
    "import warnings\n",
    "warnings.filterwarnings('always')\n",
    "warnings.filterwarnings('ignore')\n",
    "\n",
    "# data visualisation and manipulation\n",
    "import numpy as np\n",
    "import pandas as pd\n",
    "import matplotlib.pyplot as plt\n",
    "from matplotlib import style\n",
    "import seaborn as sns\n",
    "#configure\n",
    "# sets matplotlib to inline and displays graphs below the corressponding cell.\n",
    "%matplotlib inline  \n",
    "style.use('fivethirtyeight')\n",
    "sns.set(style='whitegrid',color_codes=True)\n",
    "\n",
    "!pip uninstall -q -y tensorflow google-colab grpcio\n",
    "!pip install -q tf-nightly\n",
    "#!pip install -q git+https://github.com/tensorflow/examples"
   ]
  },
  {
   "cell_type": "code",
   "execution_count": 2,
   "metadata": {},
   "outputs": [],
   "source": [
    "from __future__ import absolute_import, division, print_function, unicode_literals\n",
    "\n",
    "import numpy as np\n",
    "import os\n",
    "import tensorflow as tf\n",
    "assert tf.__version__.startswith('2')\n",
    "import sys\n",
    "sys.path.append('C:/Users/Adrian/Documents/examples')\n",
    "\n",
    "from tensorflow_examples.lite.model_customization.core.data_util.text_dataloader import TextClassifierDataLoader\n",
    "from tensorflow_examples.lite.model_customization.core.model_export_format import ModelExportFormat\n",
    "import tensorflow_examples.lite.model_customization.core.task.text_classifier as text_classifier\n",
    "\n",
    "from textdata_extension import from_panda\n",
    "TextClassifierDataLoader.from_panda = from_panda\n",
    "\n",
    "%load_ext autoreload\n",
    "%autoreload 2\n",
    "%reload_ext autoreload"
   ]
  },
  {
   "cell_type": "markdown",
   "metadata": {},
   "source": [
    "##  Load Dataset"
   ]
  },
  {
   "cell_type": "code",
   "execution_count": 3,
   "metadata": {},
   "outputs": [],
   "source": [
    "rev_frame = pd.read_csv(\"Reviews.csv\")"
   ]
  },
  {
   "cell_type": "code",
   "execution_count": 4,
   "metadata": {},
   "outputs": [
    {
     "data": {
      "text/html": [
       "<div>\n",
       "<style scoped>\n",
       "    .dataframe tbody tr th:only-of-type {\n",
       "        vertical-align: middle;\n",
       "    }\n",
       "\n",
       "    .dataframe tbody tr th {\n",
       "        vertical-align: top;\n",
       "    }\n",
       "\n",
       "    .dataframe thead th {\n",
       "        text-align: right;\n",
       "    }\n",
       "</style>\n",
       "<table border=\"1\" class=\"dataframe\">\n",
       "  <thead>\n",
       "    <tr style=\"text-align: right;\">\n",
       "      <th></th>\n",
       "      <th>Id</th>\n",
       "      <th>ProductId</th>\n",
       "      <th>UserId</th>\n",
       "      <th>ProfileName</th>\n",
       "      <th>HelpfulnessNumerator</th>\n",
       "      <th>HelpfulnessDenominator</th>\n",
       "      <th>Score</th>\n",
       "      <th>Time</th>\n",
       "      <th>Summary</th>\n",
       "      <th>Text</th>\n",
       "    </tr>\n",
       "  </thead>\n",
       "  <tbody>\n",
       "    <tr>\n",
       "      <td>0</td>\n",
       "      <td>1</td>\n",
       "      <td>B001E4KFG0</td>\n",
       "      <td>A3SGXH7AUHU8GW</td>\n",
       "      <td>delmartian</td>\n",
       "      <td>1</td>\n",
       "      <td>1</td>\n",
       "      <td>5</td>\n",
       "      <td>1303862400</td>\n",
       "      <td>Good Quality Dog Food</td>\n",
       "      <td>I have bought several of the Vitality canned d...</td>\n",
       "    </tr>\n",
       "    <tr>\n",
       "      <td>1</td>\n",
       "      <td>2</td>\n",
       "      <td>B00813GRG4</td>\n",
       "      <td>A1D87F6ZCVE5NK</td>\n",
       "      <td>dll pa</td>\n",
       "      <td>0</td>\n",
       "      <td>0</td>\n",
       "      <td>1</td>\n",
       "      <td>1346976000</td>\n",
       "      <td>Not as Advertised</td>\n",
       "      <td>Product arrived labeled as Jumbo Salted Peanut...</td>\n",
       "    </tr>\n",
       "    <tr>\n",
       "      <td>2</td>\n",
       "      <td>3</td>\n",
       "      <td>B000LQOCH0</td>\n",
       "      <td>ABXLMWJIXXAIN</td>\n",
       "      <td>Natalia Corres \"Natalia Corres\"</td>\n",
       "      <td>1</td>\n",
       "      <td>1</td>\n",
       "      <td>4</td>\n",
       "      <td>1219017600</td>\n",
       "      <td>\"Delight\" says it all</td>\n",
       "      <td>This is a confection that has been around a fe...</td>\n",
       "    </tr>\n",
       "    <tr>\n",
       "      <td>3</td>\n",
       "      <td>4</td>\n",
       "      <td>B000UA0QIQ</td>\n",
       "      <td>A395BORC6FGVXV</td>\n",
       "      <td>Karl</td>\n",
       "      <td>3</td>\n",
       "      <td>3</td>\n",
       "      <td>2</td>\n",
       "      <td>1307923200</td>\n",
       "      <td>Cough Medicine</td>\n",
       "      <td>If you are looking for the secret ingredient i...</td>\n",
       "    </tr>\n",
       "    <tr>\n",
       "      <td>4</td>\n",
       "      <td>5</td>\n",
       "      <td>B006K2ZZ7K</td>\n",
       "      <td>A1UQRSCLF8GW1T</td>\n",
       "      <td>Michael D. Bigham \"M. Wassir\"</td>\n",
       "      <td>0</td>\n",
       "      <td>0</td>\n",
       "      <td>5</td>\n",
       "      <td>1350777600</td>\n",
       "      <td>Great taffy</td>\n",
       "      <td>Great taffy at a great price.  There was a wid...</td>\n",
       "    </tr>\n",
       "  </tbody>\n",
       "</table>\n",
       "</div>"
      ],
      "text/plain": [
       "   Id   ProductId          UserId                      ProfileName  \\\n",
       "0   1  B001E4KFG0  A3SGXH7AUHU8GW                       delmartian   \n",
       "1   2  B00813GRG4  A1D87F6ZCVE5NK                           dll pa   \n",
       "2   3  B000LQOCH0   ABXLMWJIXXAIN  Natalia Corres \"Natalia Corres\"   \n",
       "3   4  B000UA0QIQ  A395BORC6FGVXV                             Karl   \n",
       "4   5  B006K2ZZ7K  A1UQRSCLF8GW1T    Michael D. Bigham \"M. Wassir\"   \n",
       "\n",
       "   HelpfulnessNumerator  HelpfulnessDenominator  Score        Time  \\\n",
       "0                     1                       1      5  1303862400   \n",
       "1                     0                       0      1  1346976000   \n",
       "2                     1                       1      4  1219017600   \n",
       "3                     3                       3      2  1307923200   \n",
       "4                     0                       0      5  1350777600   \n",
       "\n",
       "                 Summary                                               Text  \n",
       "0  Good Quality Dog Food  I have bought several of the Vitality canned d...  \n",
       "1      Not as Advertised  Product arrived labeled as Jumbo Salted Peanut...  \n",
       "2  \"Delight\" says it all  This is a confection that has been around a fe...  \n",
       "3         Cough Medicine  If you are looking for the secret ingredient i...  \n",
       "4            Great taffy  Great taffy at a great price.  There was a wid...  "
      ]
     },
     "execution_count": 4,
     "metadata": {},
     "output_type": "execute_result"
    }
   ],
   "source": [
    "# df is the copy we process for sentimental analysis\n",
    "df=rev_frame.copy()\n",
    "df.head()"
   ]
  },
  {
   "cell_type": "markdown",
   "metadata": {},
   "source": [
    "## Data cleaning and preprocessing"
   ]
  },
  {
   "cell_type": "markdown",
   "metadata": {},
   "source": [
    "Regard only 'Text' and 'Score' for analysis and rename them to 'review' and 'rating'"
   ]
  },
  {
   "cell_type": "code",
   "execution_count": 5,
   "metadata": {},
   "outputs": [],
   "source": [
    "df=df[['Text','Score']]\n",
    "df['review']=df['Text']\n",
    "df['rating']=df['Score']\n",
    "df.drop(['Text','Score'],axis=1,inplace=True)"
   ]
  },
  {
   "cell_type": "code",
   "execution_count": 6,
   "metadata": {},
   "outputs": [
    {
     "name": "stdout",
     "output_type": "stream",
     "text": [
      "(568454, 2)\n"
     ]
    },
    {
     "data": {
      "text/html": [
       "<div>\n",
       "<style scoped>\n",
       "    .dataframe tbody tr th:only-of-type {\n",
       "        vertical-align: middle;\n",
       "    }\n",
       "\n",
       "    .dataframe tbody tr th {\n",
       "        vertical-align: top;\n",
       "    }\n",
       "\n",
       "    .dataframe thead th {\n",
       "        text-align: right;\n",
       "    }\n",
       "</style>\n",
       "<table border=\"1\" class=\"dataframe\">\n",
       "  <thead>\n",
       "    <tr style=\"text-align: right;\">\n",
       "      <th></th>\n",
       "      <th>review</th>\n",
       "      <th>rating</th>\n",
       "    </tr>\n",
       "  </thead>\n",
       "  <tbody>\n",
       "    <tr>\n",
       "      <td>0</td>\n",
       "      <td>I have bought several of the Vitality canned d...</td>\n",
       "      <td>5</td>\n",
       "    </tr>\n",
       "    <tr>\n",
       "      <td>1</td>\n",
       "      <td>Product arrived labeled as Jumbo Salted Peanut...</td>\n",
       "      <td>1</td>\n",
       "    </tr>\n",
       "    <tr>\n",
       "      <td>2</td>\n",
       "      <td>This is a confection that has been around a fe...</td>\n",
       "      <td>4</td>\n",
       "    </tr>\n",
       "    <tr>\n",
       "      <td>3</td>\n",
       "      <td>If you are looking for the secret ingredient i...</td>\n",
       "      <td>2</td>\n",
       "    </tr>\n",
       "    <tr>\n",
       "      <td>4</td>\n",
       "      <td>Great taffy at a great price.  There was a wid...</td>\n",
       "      <td>5</td>\n",
       "    </tr>\n",
       "  </tbody>\n",
       "</table>\n",
       "</div>"
      ],
      "text/plain": [
       "                                              review  rating\n",
       "0  I have bought several of the Vitality canned d...       5\n",
       "1  Product arrived labeled as Jumbo Salted Peanut...       1\n",
       "2  This is a confection that has been around a fe...       4\n",
       "3  If you are looking for the secret ingredient i...       2\n",
       "4  Great taffy at a great price.  There was a wid...       5"
      ]
     },
     "execution_count": 6,
     "metadata": {},
     "output_type": "execute_result"
    }
   ],
   "source": [
    "print(df.shape)\n",
    "df.head()"
   ]
  },
  {
   "cell_type": "markdown",
   "metadata": {},
   "source": [
    "Check for null values:"
   ]
  },
  {
   "cell_type": "code",
   "execution_count": 7,
   "metadata": {},
   "outputs": [
    {
     "name": "stdout",
     "output_type": "stream",
     "text": [
      "0\n"
     ]
    },
    {
     "data": {
      "text/plain": [
       "0"
      ]
     },
     "execution_count": 7,
     "metadata": {},
     "output_type": "execute_result"
    }
   ],
   "source": [
    "print(df['rating'].isnull().sum())\n",
    "df['review'].isnull().sum()  # no null values."
   ]
  },
  {
   "cell_type": "markdown",
   "metadata": {},
   "source": [
    "Remove duplicates:"
   ]
  },
  {
   "cell_type": "code",
   "execution_count": 8,
   "metadata": {},
   "outputs": [],
   "source": [
    "# remove duplicates/ for every duplicate we will keep only one row of that type. \n",
    "df.drop_duplicates(subset=['rating','review'],keep='first',inplace=True) "
   ]
  },
  {
   "cell_type": "code",
   "execution_count": 9,
   "metadata": {},
   "outputs": [
    {
     "name": "stdout",
     "output_type": "stream",
     "text": [
      "(393675, 2)\n"
     ]
    },
    {
     "data": {
      "text/html": [
       "<div>\n",
       "<style scoped>\n",
       "    .dataframe tbody tr th:only-of-type {\n",
       "        vertical-align: middle;\n",
       "    }\n",
       "\n",
       "    .dataframe tbody tr th {\n",
       "        vertical-align: top;\n",
       "    }\n",
       "\n",
       "    .dataframe thead th {\n",
       "        text-align: right;\n",
       "    }\n",
       "</style>\n",
       "<table border=\"1\" class=\"dataframe\">\n",
       "  <thead>\n",
       "    <tr style=\"text-align: right;\">\n",
       "      <th></th>\n",
       "      <th>review</th>\n",
       "      <th>rating</th>\n",
       "    </tr>\n",
       "  </thead>\n",
       "  <tbody>\n",
       "    <tr>\n",
       "      <td>0</td>\n",
       "      <td>I have bought several of the Vitality canned d...</td>\n",
       "      <td>5</td>\n",
       "    </tr>\n",
       "    <tr>\n",
       "      <td>1</td>\n",
       "      <td>Product arrived labeled as Jumbo Salted Peanut...</td>\n",
       "      <td>1</td>\n",
       "    </tr>\n",
       "    <tr>\n",
       "      <td>2</td>\n",
       "      <td>This is a confection that has been around a fe...</td>\n",
       "      <td>4</td>\n",
       "    </tr>\n",
       "    <tr>\n",
       "      <td>3</td>\n",
       "      <td>If you are looking for the secret ingredient i...</td>\n",
       "      <td>2</td>\n",
       "    </tr>\n",
       "    <tr>\n",
       "      <td>4</td>\n",
       "      <td>Great taffy at a great price.  There was a wid...</td>\n",
       "      <td>5</td>\n",
       "    </tr>\n",
       "  </tbody>\n",
       "</table>\n",
       "</div>"
      ],
      "text/plain": [
       "                                              review  rating\n",
       "0  I have bought several of the Vitality canned d...       5\n",
       "1  Product arrived labeled as Jumbo Salted Peanut...       1\n",
       "2  This is a confection that has been around a fe...       4\n",
       "3  If you are looking for the secret ingredient i...       2\n",
       "4  Great taffy at a great price.  There was a wid...       5"
      ]
     },
     "execution_count": 9,
     "metadata": {},
     "output_type": "execute_result"
    }
   ],
   "source": [
    "# now check the shape. note that shape is reduced which shows that we did has duplicate rows.\n",
    "size = df.shape\n",
    "print(size)\n",
    "df.head()\n"
   ]
  },
  {
   "cell_type": "code",
   "execution_count": 10,
   "metadata": {},
   "outputs": [],
   "source": [
    "def mark_sentiment(rating):\n",
    "  if(rating<=3):\n",
    "    return 0\n",
    "  else:\n",
    "    return 1"
   ]
  },
  {
   "cell_type": "code",
   "execution_count": 11,
   "metadata": {},
   "outputs": [],
   "source": [
    "df['sentiment']=df['rating'].apply(mark_sentiment)"
   ]
  },
  {
   "cell_type": "code",
   "execution_count": 12,
   "metadata": {},
   "outputs": [
    {
     "data": {
      "text/html": [
       "<div>\n",
       "<style scoped>\n",
       "    .dataframe tbody tr th:only-of-type {\n",
       "        vertical-align: middle;\n",
       "    }\n",
       "\n",
       "    .dataframe tbody tr th {\n",
       "        vertical-align: top;\n",
       "    }\n",
       "\n",
       "    .dataframe thead th {\n",
       "        text-align: right;\n",
       "    }\n",
       "</style>\n",
       "<table border=\"1\" class=\"dataframe\">\n",
       "  <thead>\n",
       "    <tr style=\"text-align: right;\">\n",
       "      <th></th>\n",
       "      <th>review</th>\n",
       "      <th>sentiment</th>\n",
       "    </tr>\n",
       "  </thead>\n",
       "  <tbody>\n",
       "    <tr>\n",
       "      <td>0</td>\n",
       "      <td>I have bought several of the Vitality canned d...</td>\n",
       "      <td>1</td>\n",
       "    </tr>\n",
       "    <tr>\n",
       "      <td>1</td>\n",
       "      <td>Product arrived labeled as Jumbo Salted Peanut...</td>\n",
       "      <td>0</td>\n",
       "    </tr>\n",
       "    <tr>\n",
       "      <td>2</td>\n",
       "      <td>This is a confection that has been around a fe...</td>\n",
       "      <td>1</td>\n",
       "    </tr>\n",
       "    <tr>\n",
       "      <td>3</td>\n",
       "      <td>If you are looking for the secret ingredient i...</td>\n",
       "      <td>0</td>\n",
       "    </tr>\n",
       "    <tr>\n",
       "      <td>4</td>\n",
       "      <td>Great taffy at a great price.  There was a wid...</td>\n",
       "      <td>1</td>\n",
       "    </tr>\n",
       "  </tbody>\n",
       "</table>\n",
       "</div>"
      ],
      "text/plain": [
       "                                              review  sentiment\n",
       "0  I have bought several of the Vitality canned d...          1\n",
       "1  Product arrived labeled as Jumbo Salted Peanut...          0\n",
       "2  This is a confection that has been around a fe...          1\n",
       "3  If you are looking for the secret ingredient i...          0\n",
       "4  Great taffy at a great price.  There was a wid...          1"
      ]
     },
     "execution_count": 12,
     "metadata": {},
     "output_type": "execute_result"
    }
   ],
   "source": [
    "df.drop(['rating'],axis=1,inplace=True)\n",
    "df.head()"
   ]
  },
  {
   "cell_type": "code",
   "execution_count": 13,
   "metadata": {},
   "outputs": [
    {
     "data": {
      "text/plain": [
       "(393675, 2)"
      ]
     },
     "execution_count": 13,
     "metadata": {},
     "output_type": "execute_result"
    }
   ],
   "source": [
    "df.shape"
   ]
  },
  {
   "cell_type": "markdown",
   "metadata": {},
   "source": [
    "## Cleaning"
   ]
  },
  {
   "cell_type": "markdown",
   "metadata": {},
   "source": [
    "Has not proven to be more successful!"
   ]
  },
  {
   "cell_type": "code",
   "execution_count": 14,
   "metadata": {},
   "outputs": [],
   "source": [
    "# function to clean and pre-process the text.\n",
    "def clean_reviews(review):  \n",
    "    \n",
    "    # 1. Removing html tags\n",
    "    review_text = BeautifulSoup(review,\"lxml\").get_text()\n",
    "    \n",
    "    # 2. Retaining only alphabets.\n",
    "    review_text = re.sub(\"[^a-zA-Z]\",\" \",review_text)\n",
    "    \n",
    "    # 3. Converting to lower case and splitting\n",
    "    word_tokens= review_text.lower().split()\n",
    "    \n",
    "    # 4. Remove stopwords\n",
    "    le=WordNetLemmatizer()\n",
    "    stop_words= set(stopwords.words(\"english\"))     \n",
    "    word_tokens= [le.lemmatize(w) for w in word_tokens if not w in stop_words]\n",
    "    \n",
    "    cleaned_review=\" \".join(word_tokens)\n",
    "    return cleaned_review\n",
    "\n",
    "## Ignore!"
   ]
  },
  {
   "cell_type": "markdown",
   "metadata": {},
   "source": [
    "Note that pre processing all the reviews is taking way too much time and so I will take only 100K reviews. To balance the class I have taken equal instances of each sentiment."
   ]
  },
  {
   "cell_type": "code",
   "execution_count": 15,
   "metadata": {},
   "outputs": [],
   "source": [
    "pos_df=df.loc[df.sentiment==1,:][:50000]\n",
    "neg_df=df.loc[df.sentiment==0,:][:50000]"
   ]
  },
  {
   "cell_type": "code",
   "execution_count": 16,
   "metadata": {
    "scrolled": true
   },
   "outputs": [
    {
     "data": {
      "text/html": [
       "<div>\n",
       "<style scoped>\n",
       "    .dataframe tbody tr th:only-of-type {\n",
       "        vertical-align: middle;\n",
       "    }\n",
       "\n",
       "    .dataframe tbody tr th {\n",
       "        vertical-align: top;\n",
       "    }\n",
       "\n",
       "    .dataframe thead th {\n",
       "        text-align: right;\n",
       "    }\n",
       "</style>\n",
       "<table border=\"1\" class=\"dataframe\">\n",
       "  <thead>\n",
       "    <tr style=\"text-align: right;\">\n",
       "      <th></th>\n",
       "      <th>review</th>\n",
       "      <th>sentiment</th>\n",
       "    </tr>\n",
       "  </thead>\n",
       "  <tbody>\n",
       "    <tr>\n",
       "      <td>0</td>\n",
       "      <td>hello found betetr tasteing popcorn with butte...</td>\n",
       "      <td>0</td>\n",
       "    </tr>\n",
       "    <tr>\n",
       "      <td>1</td>\n",
       "      <td>I love the Cranberry Flax version of these, bu...</td>\n",
       "      <td>0</td>\n",
       "    </tr>\n",
       "    <tr>\n",
       "      <td>2</td>\n",
       "      <td>This is the best Black Olive Paste I ever had....</td>\n",
       "      <td>1</td>\n",
       "    </tr>\n",
       "    <tr>\n",
       "      <td>3</td>\n",
       "      <td>Firm olives but a little too salty for my tast...</td>\n",
       "      <td>0</td>\n",
       "    </tr>\n",
       "    <tr>\n",
       "      <td>4</td>\n",
       "      <td>This one and the Miso noodle bow are favorites...</td>\n",
       "      <td>1</td>\n",
       "    </tr>\n",
       "  </tbody>\n",
       "</table>\n",
       "</div>"
      ],
      "text/plain": [
       "                                              review  sentiment\n",
       "0  hello found betetr tasteing popcorn with butte...          0\n",
       "1  I love the Cranberry Flax version of these, bu...          0\n",
       "2  This is the best Black Olive Paste I ever had....          1\n",
       "3  Firm olives but a little too salty for my tast...          0\n",
       "4  This one and the Miso noodle bow are favorites...          1"
      ]
     },
     "execution_count": 16,
     "metadata": {},
     "output_type": "execute_result"
    }
   ],
   "source": [
    "#combining\n",
    "df=pd.concat([pos_df,neg_df],ignore_index=True)\n",
    "# shuffling rows\n",
    "df = df.sample(frac=1).reset_index(drop=True)\n",
    "#print(df.shape)  # perfectly fine.\n",
    "df.head()"
   ]
  },
  {
   "cell_type": "markdown",
   "metadata": {},
   "source": [
    "## Model creation"
   ]
  },
  {
   "cell_type": "markdown",
   "metadata": {},
   "source": [
    "In the following steps the Panda-object is loaded into an object that Tensorflow can process"
   ]
  },
  {
   "cell_type": "code",
   "execution_count": 21,
   "metadata": {},
   "outputs": [],
   "source": [
    "train_data, test_data = TextClassifierDataLoader.from_panda(df).split(0.7) # The fraction describes the size of the training data"
   ]
  },
  {
   "cell_type": "markdown",
   "metadata": {},
   "source": [
    "Let's have a look at the data with it's classification and it's review:"
   ]
  },
  {
   "cell_type": "code",
   "execution_count": 22,
   "metadata": {},
   "outputs": [
    {
     "name": "stdout",
     "output_type": "stream",
     "text": [
      "0: b\"I was extremely disappionted when I opened my shipment of Enjoy Life On The Go Bars (Very Berry, Carmel Apple, and Cocoa Loco). The boxes are now a plain, generic design..you know, the kind all brands change to when they want to make their products look cheaper. I then compared the ingredients of the new shipment with the older boxes I still had at home. Guess what?! Cheaper ingredients! Next, I taste-tested, and let my 3 year old help. He wouldn't eat the new ones...and I can't blame him. They are oily and bland. I thought Enjoy Life was a brand that actually cared about using quality ingredients to make a good-tasting product. I was wrong. In summary, these are way too expensive to be made with low-quality, unpalatable ingredients.\"\n",
      "1: b'My dog would do anything for his liver treats!  ...and whenever any of his playmates are out for a walk they drag their owners to our house so they can have a liver treat as well (in fact most of their owners now buy it for them).  It is healthy, a great training treat, and they all love it!'\n",
      "1: b\"Although the I agree w/the previous review to a point, the many flavors that this product comes in have helped me GREATLY through my crazy-crunch attacks! Yes, they have a unique taste at first, but I'm oddly attracted to these critters now! I say to give 'em a try...I'm addicted.\"\n",
      "1: b'This tiny Chiclets are very addicting. Since I use the subscribe and save I never seem to run out. I love grabbing a pack and eating the whole thing at once. Yummy.'\n",
      "1: b'<span class=\"tiny\"> Length:: 1:55 Mins<br /><br /></span>I have a 43 pound border collie mix. He needs to be mentally stimulated so I bought this toy for him. He gets his dinner through this jug sometimes.<br /><br />I was nervous about purchasing it because of the reviews stating how the rubber \"rope\" was easily chopped, but I figured I might be able to replace it with a real rope if it breaks. To my surprise, the purple rope hasn\\'t broke and I had this toy for several months now. My dog has been chewing it with his molars, but not very often. Also he may not be as a strong chewer as the dogs from other reviews.<br /><br />When my dog first recieved this toy, he kept pawing at it and pushing it with his nose panting with exsaustion. It took about an hour until he almost got the one cup of kibble that was in it. Later he got used to it and now he has a strategy. He pushes the back of the bottle straight up. He can empty the bottle in about 10 minutes now.<br /><br />A major problem I have with this toy is that the rubber spikes and the rope gets pretty nasty. It picks up hair from the carpet and dry food crumbs from the kibble inside the bottle and builds up to a disgusting slimy gunk. It is extremely hard to get all the crap out between the spikes and the inner edges of the rope.<br /><br />Over all it is a good toy for my medium sized mutt. It just gets dirty and hard to clean.'\n",
      "1: b'Buying the greenies online is the way to go..  They cost about $10 cheaper than if you were to walk into a chain pet store.'\n",
      "0: b'the popcorn tastes ok when your lucky enough to get handfull of it thats not stale its kinda sad 24 packs of stale popcorn and many unpoped kernals'\n",
      "0: b'I definitely noticed a difference in the way my stomach reacted to this coffee -- much less acid, fewer jitters. However, while the French Roast coffee tastes pretty good, there is a hint of bitterness in the aftertaste that is unpleasant. Overall, this is just OK.'\n",
      "1: b'My daughter, 12 years old, loves this soup.  She is a picky eater, but loves this soup.  I like it as well.  It has a nice flavor.'\n",
      "1: b'There is nothing better than a huge baked sweet potato with (real) butter and Splenda Brown Sugar totally covering the butter and sweet potato, makes me want to fix one right now!'\n",
      "0: b'I love peppermints, but these were awful. Very disapointed.<br /> Not worth sending them back. So, I pitched the whole box of them.<br />Awful, they tasted just awful.'\n",
      "1: b'This was a hit at the office.  Very good.  With cream and sugar it was like drinking a candy bar or brownie :).  Obviously anything beats the office coffee but this stuff was pretty good and went a good ways.  The individual bags make it easy to fix as well.'\n",
      "0: b\"Broadway Strawberry Rolls-when I was a kid-and later, the Ruehllers from Denmark as well, were my Favorite candy-ever!!! They were sold in Solvang, Ca for a few years!<br />Recently, someone bought the Broadway name and are making these rolls again! I am an expert-been eating these since I was 5!!!<br />This new batch is an utter ABOMINATION!!! These are WRETCHEDLY AWFUL!!!! Change the name to OFF Broadway Rolls! These are REALLY off!!!<br />This is as if Yoko Ono toured as The BeaTles!!! Like comparing a Big Mac to the best Fillet Mignon! Like comparing Katy Perry to Joni Mitchell!!!<br />Like comparing The Flaming Lips to Pink Floyd....<br />Like comparing Sarah Bernhardt to Natalie Wood...<br />Anyway, they went from the BEST candy to a contender for Worst!!! Don't be fooled!!! This has No taste! Oh! Actually...it Does!!! It's AWFUL...!!! Yech!!!!!!!!!!!!!!<br />Want great licorice???? Get the Australian kind! at World Market or any fine candy store!!!  Realllly good! or Lindt Intense Orange! Yummmy dark chocolate!<br /><br />I WOULD rate this -5 stars!!!!!!!!\"\n",
      "1: b\"Both previous reviewers rated this very low b/c they claim these drag&eacute;es cause cancer... not true. They may be referring to the SILVER or GOLD drag&eacute;es that are not longer available in CA b/c the FDA ruled that b/c there is trace amount of metal, they must state it's for decoration only, though people have been eating these for centuries... you get more metal in tap water and cooking in pans than from the few cookies you eat decorated with these during occassional celebrations. (BTW, the CA law can be traced to one lawyer who made this his sole platform... google it.)<br />These PEARL drag&eacute;es are perfectly safe and do not fall under the same FDA restrictions and are still available in most baking supply shops (who've pulled the metallic ones off their shelves just avoid legal trouble.) While those who are looking for this product will probably already know this, those who are exploring new ideas for decorating will benefit from learning the truth. (The only reason I don't rate this higher is b/c of shipping rates.) Happy Baking!\"\n",
      "0: b'i tried these yesterday.i had lard before,but these chips are just not tasteful.lard overpowers the taste.plus lard really isnt good for your health.this is my opinion'\n",
      "1: b'Great option for excellent taste, price, and convenience. A repeat customer on these! We order these now in the 36 pack instead of getting at the grocery store.'\n",
      "0: b'the worst ever please try another business maybe toilet paper about two grams of carots chicken as  hard as rock'\n",
      "1: b'Well to start with I am not a fan of just plain tea but I do like fruit teas. This tea is sweetened with honey and I love the blackberry pomegranate flavor. I see on the box it does not have aspartame so it is very healthy. This could get me to stop drinking so much diet cola.  I truly love the flavor and will be ordering this from Amazon. As I said DELICIOUS!!!!!!!!!'\n",
      "0: b'Have to say that I dont get much effect out of this product.  Has a nice berry flavor.<br /><br />Was shipped in a timely manner so that, with the fact that I dont much effect out of it, earned it 2 stars.'\n",
      "1: b\"I received my second box of Chocoperfection and I want to thank this company for the superior packaging. Today it's near 90 degrees and I was worried about receiving a box of melted chocolate (did I mention this is the best chocolate I have ever eaten). I was impressed with the 6 cold packs surrounding the chocolate and the bars were in perfect condition. It doesn't even matter if you're diabetic or not - just order this!!!\"\n",
      "1: b'My two Siberian cats refused almost a dozen canned foods, but THIS, they could not get enough of!  Thank you!  A superb supplement to their dry food diet.'\n",
      "0: b'Deceptive title!  Did not receive an 8 pack, only received one pouch.  Someone needs to revise the title so as not to mislead consumers.  Have yet to feed this very expensive meal to my daughter so I cannot comment on the flavor, but we love happy baby products in general.'\n",
      "1: b'I usually make pancakes from scratch and have never found a mix that doesn\\'t taste \"off\" to me.  This mix is the best!!!  My family and I love the way it tastes and it is so quick and easy.'\n",
      "1: b\"I sent Swiss Colony's petits Fours as a gift to my cousin and she loved them (as I knew she would).\"\n",
      "1: b'I have two Siamese kittens who are on a mostly all canned food diet. The Chicken & Salmon formula is one of the foods in their current rotation. They seem to really enjoy eating it, although I wouldn\\'t say it\\'s their favorite food. You can see bits of the ingredients (rice?) in the food, and the texture is not too firm, but certainly more firm than a pate-style food. I have already ordered my second case, and plan to order more in the future. These 5.5 oz cans fit the <a href=\"http://www.amazon.com/gp/product/B000084E66\">Petmate Kitty-Kap Can Cover</a> quite well.'\n"
     ]
    }
   ],
   "source": [
    "for text, label in train_data.dataset.take(10):\n",
    "  print (\"%s: %s\"%(train_data.index_to_label[label.numpy()], text.numpy()))"
   ]
  },
  {
   "cell_type": "code",
   "execution_count": 23,
   "metadata": {},
   "outputs": [
    {
     "name": "stdout",
     "output_type": "stream",
     "text": [
      "INFO:tensorflow:Retraining the models...\n",
      "Train for 2531 steps, validate for 281 steps\n",
      "Epoch 1/3\n",
      "2531/2531 [==============================] - 50s 20ms/step - loss: 0.4468 - accuracy: 0.7964 - val_loss: 0.3549 - val_accuracy: 0.8523\n",
      "Epoch 2/3\n",
      "2531/2531 [==============================] - 49s 19ms/step - loss: 0.3229 - accuracy: 0.8680 - val_loss: 0.3378 - val_accuracy: 0.8614loss: 0.3312 - accuracy: 0 - ETA: 19s - loss: 0.3309 -  - ETA - ETA: 16s - loss: 0.3299 - accuracy: 0. - ETA: 16s - loss: 0.3297 - accuracy: 0.864 - ETA: 16s -  - ETA: 12s -  - ETA: 8s - loss: 0.3262 - ac - ETA: 6s - loss: 0.325 - ETA:  - ETA: 3s - loss: 0.3245 -  - E - ETA: 0s - loss: 0.323\n",
      "Epoch 3/3\n",
      "2531/2531 [==============================] - 49s 19ms/step - loss: 0.2999 - accuracy: 0.8786 - val_loss: 0.3408 - val_accuracy: 0.8625\n"
     ]
    }
   ],
   "source": [
    "model = text_classifier.create(train_data, epochs=3,test_ratio=0)"
   ]
  },
  {
   "cell_type": "markdown",
   "metadata": {},
   "source": [
    "We can have a look at the specifics of the model:"
   ]
  },
  {
   "cell_type": "code",
   "execution_count": null,
   "metadata": {},
   "outputs": [],
   "source": [
    "model.summary()"
   ]
  },
  {
   "cell_type": "markdown",
   "metadata": {},
   "source": [
    "After training we should test our model on some unseen test data to evaluate our model:"
   ]
  },
  {
   "cell_type": "code",
   "execution_count": 24,
   "metadata": {},
   "outputs": [
    {
     "name": "stdout",
     "output_type": "stream",
     "text": [
      "313/313 [==============================] - 5s 17ms/step - loss: 0.3238 - accuracy: 0.8604 6s - loss: 0.3045 -  - ETA: 0s - loss: 0.3242 - accuracy: 0.\n"
     ]
    }
   ],
   "source": [
    "loss, acc = model.evaluate(test_data)"
   ]
  },
  {
   "cell_type": "markdown",
   "metadata": {},
   "source": [
    "Finally we can export the model to use it in the App using TensorFlow Lite :)"
   ]
  },
  {
   "cell_type": "code",
   "execution_count": 25,
   "metadata": {},
   "outputs": [
    {
     "name": "stdout",
     "output_type": "stream",
     "text": [
      "INFO:tensorflow:Export to tflite model amazon_review_classifier_filter.tflite, saved labels in text_label_n2.txt.\n",
      "INFO:tensorflow:  Saved vocabulary in vocab_n2.txt.\n"
     ]
    }
   ],
   "source": [
    "model.export('amazon_review_classifier_filter.tflite', 'text_label_n2.txt', 'vocab_n2.txt')"
   ]
  }
 ],
 "metadata": {
  "kernelspec": {
   "display_name": "Python 3",
   "language": "python",
   "name": "python3"
  },
  "language_info": {
   "codemirror_mode": {
    "name": "ipython",
    "version": 3
   },
   "file_extension": ".py",
   "mimetype": "text/x-python",
   "name": "python",
   "nbconvert_exporter": "python",
   "pygments_lexer": "ipython3",
   "version": "3.7.4"
  }
 },
 "nbformat": 4,
 "nbformat_minor": 2
}
